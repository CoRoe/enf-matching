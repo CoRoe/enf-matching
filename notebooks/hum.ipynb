{
  "nbformat": 4,
  "nbformat_minor": 0,
  "metadata": {
    "colab": {
      "provenance": [],
      "authorship_tag": "ABX9TyN9er3GLrZxOaAuQas3BfKw"
    },
    "kernelspec": {
      "name": "python3",
      "display_name": "Python 3"
    },
    "language_info": {
      "name": "python"
    }
  },
  "cells": [
    {
      "cell_type": "markdown",
      "source": [
        "# Extraction of ENF Data from Audio Clips"
      ],
      "metadata": {
        "id": "_zRIrrHNH20n"
      }
    },
    {
      "cell_type": "code",
      "execution_count": null,
      "metadata": {
        "id": "P5MtE_SPHy9H"
      },
      "outputs": [],
      "source": []
    }
  ]
}