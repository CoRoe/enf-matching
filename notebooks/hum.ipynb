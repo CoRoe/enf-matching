{
  "nbformat": 4,
  "nbformat_minor": 0,
  "metadata": {
    "colab": {
      "private_outputs": true,
      "provenance": [],
      "authorship_tag": "ABX9TyPhPGysGelAohZYhPwiqZpI"
    },
    "kernelspec": {
      "name": "python3",
      "display_name": "Python 3"
    },
    "language_info": {
      "name": "python"
    }
  },
  "cells": [
    {
      "cell_type": "markdown",
      "source": [
        "# ENF Extraction from Audio and Video Files"
      ],
      "metadata": {
        "id": "SMttDsth7EKt"
      }
    },
    {
      "cell_type": "markdown",
      "source": [
        "## Import Standard Modules"
      ],
      "metadata": {
        "id": "_qQnbnxpMfY0"
      }
    },
    {
      "cell_type": "code",
      "source": [
        "import sys\n",
        "import matplotlib.pyplot as plt\n",
        "import numpy as np\n",
        "\n",
        "!# Install the Python modules that are not yet present on Colab\n",
        "try:\n",
        "  import py7zr\n",
        "except:\n",
        "  !pip install py7zr\n",
        "  import py7zr"
      ],
      "metadata": {
        "id": "4ZvaJo_NKuRW"
      },
      "execution_count": null,
      "outputs": []
    },
    {
      "cell_type": "markdown",
      "source": [
        "## Load Custom ENF Modules from Github"
      ],
      "metadata": {
        "id": "JLyRo9YNNToQ"
      }
    },
    {
      "cell_type": "code",
      "execution_count": null,
      "metadata": {
        "id": "P5MtE_SPHy9H"
      },
      "outputs": [],
      "source": [
        "!# Clone the files on github to Colab so that they can be used\n",
        "![ -d enf-matching ] || git clone https://github.com/CoRoe/enf-matching.git\n",
        "\n",
        "# Add the path of the just cloned Python files to the Python path:\n",
        "if not '/content/enf-matching' in sys.path:\n",
        "    sys.path.insert(0, '/content/enf-matching')\n",
        "#print(sys.path)\n",
        "\n",
        "from enf import AudioClipEnf\n",
        "from enf import notch_filter"
      ]
    },
    {
      "cell_type": "code",
      "source": [
        "# @title Choose an audio or video file to analyse\n",
        "\n",
        "# TODO: The current mechanism is akward. Check\n",
        "# https://colab.research.google.com/github/NeuromatchAcademy/course-content-dl/blob/main/projects/ComputerVision/spectrogram_analysis.ipynb\n",
        "# for ideas.\n",
        "\n",
        "filename = \"enf-matching/samplemedia/001.wav\" # @param {\"type\":\"string\",\"placeholder\":\"Audio or video file\"}\n",
        "\n",
        "clip = AudioClipEnf()\n",
        "if clip.loadAudioFile(filename):\n",
        "  print(f\"Loaded '{filename}' ok, sample rate {clip.sampleRate()}\")\n",
        "else:\n",
        "  print(f\"Failed to load audio file '{filename}'\")"
      ],
      "metadata": {
        "id": "1c7nPALQWlfZ"
      },
      "execution_count": null,
      "outputs": []
    },
    {
      "cell_type": "markdown",
      "source": [
        "## Spectrogram\n",
        "\n",
        "This step displays the spectrogram of the input file without any filtering. The brighter the colour the stronger the frequency component."
      ],
      "metadata": {
        "id": "_kSHFOPUqZa-"
      }
    },
    {
      "cell_type": "code",
      "source": [
        "NFFT = 2048\n",
        "fig, (ax2) = plt.subplots(nrows=1, sharex=True)\n",
        "Pxx, freqs, bins, im = ax2.specgram(clip.data, NFFT=NFFT, Fs=clip.sampleRate())\n",
        "# The `specgram` method returns 4 objects. They are:\n",
        "# - Pxx: the periodogram\n",
        "# - freqs: the frequency vector\n",
        "# - bins: the centers of the time bins\n",
        "# - im: the .image.AxesImage instance representing the data in the plot\n",
        "ax2.set_xlabel('Time (s)')\n",
        "ax2.set_ylabel('Frequency (Hz)')\n",
        "ax2.set_title('Spectrogram')"
      ],
      "metadata": {
        "id": "s2-ii_drqf-r"
      },
      "execution_count": null,
      "outputs": []
    },
    {
      "cell_type": "code",
      "source": [
        "# @title For the next steps, some parameters have to be chosen.\n",
        "grid_freq = \"50\" # @param [\"50\",\"60\"]\n",
        "harmonic = \"2\" # @param [\"1\",\"2\"]\n"
      ],
      "metadata": {
        "id": "m9GMdyjK2yIq"
      },
      "execution_count": null,
      "outputs": []
    },
    {
      "cell_type": "markdown",
      "source": [
        "# Spectrogram of Filtered Data"
      ],
      "metadata": {
        "id": "2vhtMh0OwkAk"
      }
    },
    {
      "cell_type": "code",
      "source": [
        "filter_quality = 10 # Filter quality\n",
        "\n",
        "# FIXME: Output of the notch filter is not plausible and does not agree\n",
        "# with the STFT result.\n",
        "filtered_data = notch_filter(clip.data, int(grid_freq), clip.sampleRate(),\n",
        "                             filter_quality)\n",
        "NFFT = 1024\n",
        "fig, (ax2) = plt.subplots(nrows=1, sharex=True)\n",
        "Pxx, freqs, bins, im = ax2.specgram(filtered_data, NFFT=NFFT, Fs=clip.sampleRate())\n",
        "# The `specgram` method returns 4 objects. They are:\n",
        "# - Pxx: the periodogram\n",
        "# - freqs: the frequency vector\n",
        "# - bins: the centers of the time bins\n",
        "# - im: the .image.AxesImage instance representing the data in the plot\n",
        "ax2.set_xlabel('Time (s)')\n",
        "ax2.set_ylabel('Frequency (Hz)')\n",
        "ax2.set_title('Spectrogram')"
      ],
      "metadata": {
        "id": "NTlLYCm9wtZH"
      },
      "execution_count": null,
      "outputs": []
    },
    {
      "cell_type": "markdown",
      "source": [
        "# ENF over Time\n",
        "\n",
        "This step determines the variation of the ENF signal over time."
      ],
      "metadata": {
        "id": "5HgMdfU00Ufg"
      }
    },
    {
      "cell_type": "code",
      "source": [
        "clip.makeEnf(int(grid_freq), 0.200, int(harmonic))\n",
        "t, f_enf = clip.getEnf()\n",
        "fig, (ax1) = plt.subplots(nrows=1, sharex=True)\n",
        "ax1.plot(t, f_enf/1000)\n",
        "ax1.set_xlabel('Time (s)')\n",
        "ax1.set_ylabel('ENF (Hz)')"
      ],
      "metadata": {
        "id": "KeV5y7Kh0ayR"
      },
      "execution_count": null,
      "outputs": []
    }
  ]
}