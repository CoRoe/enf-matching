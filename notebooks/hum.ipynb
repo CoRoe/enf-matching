{
  "nbformat": 4,
  "nbformat_minor": 0,
  "metadata": {
    "colab": {
      "private_outputs": true,
      "provenance": []
    },
    "kernelspec": {
      "name": "python3",
      "display_name": "Python 3"
    },
    "language_info": {
      "name": "python"
    }
  },
  "cells": [
    {
      "cell_type": "markdown",
      "source": [
        "# ENF Extraction from Audio and Video Files\n",
        "\n",
        "Audio recordings may contain sum hum that is caused by the grid frequency interfering with the audio signal. If this noise is present in the audio signal depends on the recording equipment, the cabling, and so on.\n",
        "\n",
        "It is known that the grid frequency is not stricty 50 or 60 Hz but slightly fluctuates around the nominal value. These fluctuations are then also present in the audio audio recordings. If one matches the fluctuation of in the audio with the fluctuations of the grid frequency in the past that is is possible to chronolocate the audio recording, that is, determine tha time when the recording was made.\n",
        "\n",
        "For this matching to work, one needs:\n",
        "- access to a database of historical network frequencies,\n",
        "- an audio clip containing a sufficient amount of network noise."
      ],
      "metadata": {
        "id": "SMttDsth7EKt"
      }
    },
    {
      "cell_type": "markdown",
      "source": [
        "## Import Standard Modules"
      ],
      "metadata": {
        "id": "_qQnbnxpMfY0"
      }
    },
    {
      "cell_type": "code",
      "source": [
        "import sys\n",
        "import matplotlib.pyplot as plt\n",
        "import numpy as np\n",
        "import scipy as sc\n",
        "\n",
        "!# Install the Python modules that are not yet present on Colab\n",
        "try:\n",
        "  import py7zr\n",
        "except:\n",
        "  !pip install py7zr\n",
        "  import py7zr"
      ],
      "metadata": {
        "id": "4ZvaJo_NKuRW"
      },
      "execution_count": null,
      "outputs": []
    },
    {
      "cell_type": "markdown",
      "source": [
        "## Load Custom ENF Modules from Github"
      ],
      "metadata": {
        "id": "JLyRo9YNNToQ"
      }
    },
    {
      "cell_type": "code",
      "execution_count": null,
      "metadata": {
        "id": "P5MtE_SPHy9H"
      },
      "outputs": [],
      "source": [
        "!# Clone the files on github to Colab so that they can be used\n",
        "![ -d enf-matching ] || git clone https://github.com/CoRoe/enf-matching.git\n",
        "\n",
        "# Add the path of the just cloned Python files to the Python path:\n",
        "if not '/content/enf-matching' in sys.path:\n",
        "    sys.path.insert(0, '/content/enf-matching')\n",
        "#print(sys.path)\n",
        "\n",
        "from enf import AudioClipEnf\n",
        "from enf import notch_filter, butter_bandpass_filter"
      ]
    },
    {
      "cell_type": "code",
      "source": [
        "# @title Choose an audio or video file to analyse\n",
        "\n",
        "# TODO: The current mechanism is akward. Check\n",
        "# https://colab.research.google.com/github/NeuromatchAcademy/course-content-dl/blob/main/projects/ComputerVision/spectrogram_analysis.ipynb\n",
        "# for ideas.\n",
        "\n",
        "filename = \"enf-matching/samplemedia/001.wav\" # @param {\"type\":\"string\",\"placeholder\":\"Audio or video file\"}\n",
        "\n",
        "clip = AudioClipEnf()\n",
        "if clip.loadAudioFile(filename):\n",
        "  print(f\"Loaded '{filename}' ok, sample rate {clip.sampleRate()}\")\n",
        "else:\n",
        "  print(f\"Failed to load audio file '{filename}'\")"
      ],
      "metadata": {
        "id": "1c7nPALQWlfZ"
      },
      "execution_count": null,
      "outputs": []
    },
    {
      "cell_type": "markdown",
      "source": [
        "## Spectrogram\n",
        "\n",
        "This step displays the spectrogram of the input file without any filtering. The brighter the colour the stronger the frequency component."
      ],
      "metadata": {
        "id": "_kSHFOPUqZa-"
      }
    },
    {
      "cell_type": "code",
      "source": [
        "NFFT = 2048\n",
        "fig, (ax2) = plt.subplots(nrows=1, sharex=True)\n",
        "Pxx, freqs, bins, im = ax2.specgram(clip.data, NFFT=NFFT, Fs=clip.sampleRate())\n",
        "# The `specgram` method returns 4 objects. They are:\n",
        "# - Pxx: the periodogram\n",
        "# - freqs: the frequency vector\n",
        "# - bins: the centers of the time bins\n",
        "# - im: the .image.AxesImage instance representing the data in the plot\n",
        "ax2.set_xlabel('Time (s)')\n",
        "ax2.set_ylabel('Frequency (Hz)')\n",
        "ax2.set_title('Spectrogram')"
      ],
      "metadata": {
        "id": "s2-ii_drqf-r"
      },
      "execution_count": null,
      "outputs": []
    },
    {
      "cell_type": "code",
      "source": [
        "# @title For the next steps, some parameters have to be chosen.\n",
        "grid_freq = \"50\" # @param [\"50\",\"60\"]\n",
        "harmonic = \"2\" # @param [\"1\",\"2\"]\n"
      ],
      "metadata": {
        "id": "m9GMdyjK2yIq"
      },
      "execution_count": null,
      "outputs": []
    },
    {
      "cell_type": "markdown",
      "source": [
        "# Spectrogram of Filtered Data"
      ],
      "metadata": {
        "id": "2vhtMh0OwkAk"
      }
    },
    {
      "cell_type": "code",
      "source": [
        "# See\n",
        "# https://docs.scipy.org/doc/scipy/reference/generated/scipy.signal.iirpeak.html#scipy.signal.iirpeak\n",
        "\n",
        "filter_quality = 20 # Filter quality\n",
        "\n",
        "# FIXME: Output of the notch filter is not plausible and does not agree\n",
        "# with the STFT result.\n",
        "#filtered_data = notch_filter(clip.data, int(grid_freq), clip.sampleRate(),\n",
        "#                             filter_quality)\n",
        "\n",
        "b, a = sc.signal.iircomb(int(grid_freq), filter_quality, ftype='peak',\n",
        "                         fs=clip.sampleRate(), pass_zero=True)\n",
        "\n",
        "# Frequency response\n",
        "freq, h = sc.signal.freqz(b, a, fs=clip.sampleRate())\n",
        "print(\"freq:\", freq[-1])\n",
        "\n",
        "# Filter the data\n",
        "response = abs(h)\n",
        "\n",
        "# To avoid divide by zero when graphing\n",
        "response[response == 0] = 1e-20\n",
        "\n",
        "# Apply the filter\n",
        "filtered_data = sc.signal.filtfilt(b, a, clip.data)\n",
        "\n",
        "# Plot frequency response and spectrogram\n",
        "fig, ax = plt.subplots(2, 1)\n",
        "ax[0].plot(freq, 20*np.log10(abs(response)), color='blue')\n",
        "ax[0].set_title(\"Frequency Response\")\n",
        "ax[0].set_xlabel(\"Frequency (Hz)\")\n",
        "ax[0].set_ylabel(\"Amplitude (dB)\")\n",
        "#ax[0].set_xlim([0, 100])\n",
        "ax[0].set_ylim([-30, 10])\n",
        "ax[0].grid(True)\n",
        "\n",
        "NFFT = 2048\n",
        "Pxx, freqs, bins, im = ax[1].specgram(filtered_data, NFFT=NFFT, Fs=clip.sampleRate())\n",
        "# The `specgram` method returns 4 objects. They are:\n",
        "# - Pxx: the periodogram\n",
        "# - freqs: the frequency vector\n",
        "# - bins: the centers of the time bins\n",
        "# - im: the .image.AxesImage instance representing the data in the plot\n",
        "ax[1].set_xlabel('Time (s)')\n",
        "ax[1].set_ylabel('Frequency (Hz)')\n",
        "ax[1].set_title('Spectrogram')"
      ],
      "metadata": {
        "id": "NTlLYCm9wtZH"
      },
      "execution_count": null,
      "outputs": []
    },
    {
      "cell_type": "markdown",
      "source": [
        "# Spectrogram after Bandpass"
      ],
      "metadata": {
        "id": "9bIHkSREbeBB"
      }
    },
    {
      "cell_type": "code",
      "source": [
        "butter_order = 20\n",
        "NFFT = 4096\n",
        "freq_band = 0.200\n",
        "\n",
        "locut = int(harmonic) * (int(grid_freq) - freq_band)\n",
        "hicut = int(harmonic) * (int(grid_freq) + freq_band)\n",
        "ylim_lower = int(harmonic) * (int(grid_freq) - 5 * freq_band)\n",
        "ylim_upper = int(harmonic) * (int(grid_freq) + 5 * freq_band)\n",
        "\n",
        "filtered_data = butter_bandpass_filter(clip.data, locut, hicut,\n",
        "                                        clip.sampleRate(), butter_order)\n",
        "t = np.linspace(0, len(filtered_data)/clip.sampleRate(), len(filtered_data))\n",
        "\n",
        "fig, ax = plt.subplots(1, 1)\n",
        "#print(filtered_data.shape)\n",
        "#print(t.shape)\n",
        "\n",
        "Pxx, freqs, bins, im = ax.specgram(filtered_data, NFFT=NFFT, Fs=clip.sampleRate())\n",
        "# The `specgram` method returns 4 objects. They are:\n",
        "# - Pxx: the periodogram\n",
        "# - freqs: the frequency vector\n",
        "# - bins: the centers of the time bins\n",
        "# - im: the .image.AxesImage instance representing the data in the plot\n",
        "ax.set_ylim((ylim_lower, ylim_upper))\n",
        "ax.set_xlabel('Time (s)')\n",
        "ax.set_ylabel('Frequency (Hz)')\n",
        "ax.set_title('Spectrogram')"
      ],
      "metadata": {
        "id": "BKCCBfYmbmqf"
      },
      "execution_count": null,
      "outputs": []
    },
    {
      "cell_type": "markdown",
      "source": [
        "# ENF over Time\n",
        "\n",
        "This step determines the variation of the ENF signal over time."
      ],
      "metadata": {
        "id": "5HgMdfU00Ufg"
      }
    },
    {
      "cell_type": "code",
      "source": [
        "clip.makeEnf(int(grid_freq), 0.200, int(harmonic))\n",
        "t, f_enf = clip.getEnf()\n",
        "fig, (ax1) = plt.subplots(nrows=1, sharex=True)\n",
        "ax1.plot(t, f_enf/1000)\n",
        "ax1.set_xlabel('Time (s)')\n",
        "ax1.set_ylabel('ENF (Hz)')"
      ],
      "metadata": {
        "id": "KeV5y7Kh0ayR"
      },
      "execution_count": null,
      "outputs": []
    }
  ]
}